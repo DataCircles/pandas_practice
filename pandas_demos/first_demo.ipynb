{
 "cells": [
  {
   "cell_type": "markdown",
   "metadata": {},
   "source": [
    "#### About the Writer\n",
    "Hello! My name is Kelly. I am the social media coordinator for Data Circles, and I will be a regular contributor to our Pandas Practice repo. I am not an expert programmer, but I am an expert learner, and this is a great way to force myself to branch out and practice a variety of pandas methods. "
   ]
  },
  {
   "cell_type": "markdown",
   "metadata": {},
   "source": [
    "#### About the Data\n",
    "I downloaded a dataset about checkouts from the Seattle Public Library from Kaggle (insert link). \n",
    "\n",
    "#### About the Lesson\n",
    "This is a basic introduction to window functions in Pandas. "
   ]
  },
  {
   "cell_type": "code",
   "execution_count": null,
   "metadata": {},
   "outputs": [],
   "source": []
  },
  {
   "cell_type": "code",
   "execution_count": 1,
   "metadata": {},
   "outputs": [],
   "source": [
    "import pandas as pd\n",
    "import numpy as np\n",
    "import random\n",
    "import matplotlib.pyplot as plt"
   ]
  },
  {
   "cell_type": "code",
   "execution_count": 2,
   "metadata": {},
   "outputs": [],
   "source": [
    "# Load data for 2016 checkouts \n",
    "checkouts = pd.read_csv('../data/Checkouts_By_Title_Data_Lens_2016.csv')\n",
    "\n",
    "# Load library codes for more details about items checked out\n",
    "lib_codes = pd.read_csv('../data/Integrated_Library_System__ILS__Data_Dictionary.csv')"
   ]
  },
  {
   "cell_type": "code",
   "execution_count": 3,
   "metadata": {},
   "outputs": [],
   "source": [
    "# \n",
    "collections = lib_codes[lib_codes['Code Type'] == 'ItemCollection']"
   ]
  },
  {
   "cell_type": "code",
   "execution_count": 4,
   "metadata": {},
   "outputs": [],
   "source": [
    "df = checkouts.merge( collections, how= 'inner', left_on= 'Collection', right_on= 'Code' )"
   ]
  },
  {
   "cell_type": "code",
   "execution_count": 5,
   "metadata": {},
   "outputs": [],
   "source": [
    "# Filter dataframe to include only books\n",
    "books = df[ df['Format Subgroup'] == 'Book']"
   ]
  },
  {
   "cell_type": "code",
   "execution_count": 6,
   "metadata": {
    "scrolled": true
   },
   "outputs": [],
   "source": [
    "random_indices = np.random.randint(0,books.shape[0], 100000)"
   ]
  },
  {
   "cell_type": "code",
   "execution_count": 7,
   "metadata": {},
   "outputs": [],
   "source": [
    "books = books.iloc[random_indices].copy()"
   ]
  },
  {
   "cell_type": "code",
   "execution_count": 8,
   "metadata": {},
   "outputs": [],
   "source": [
    "books['CheckoutDateTime'] = pd.to_datetime(books.CheckoutDateTime)"
   ]
  },
  {
   "cell_type": "code",
   "execution_count": 9,
   "metadata": {},
   "outputs": [],
   "source": [
    "books['checkout_month'] = books.CheckoutDateTime.dt.month\n",
    "books['checkout_date'] = books.CheckoutDateTime.dt.date"
   ]
  },
  {
   "cell_type": "code",
   "execution_count": 10,
   "metadata": {},
   "outputs": [
    {
     "data": {
      "text/html": [
       "<div>\n",
       "<style scoped>\n",
       "    .dataframe tbody tr th:only-of-type {\n",
       "        vertical-align: middle;\n",
       "    }\n",
       "\n",
       "    .dataframe tbody tr th {\n",
       "        vertical-align: top;\n",
       "    }\n",
       "\n",
       "    .dataframe thead th {\n",
       "        text-align: right;\n",
       "    }\n",
       "</style>\n",
       "<table border=\"1\" class=\"dataframe\">\n",
       "  <thead>\n",
       "    <tr style=\"text-align: right;\">\n",
       "      <th></th>\n",
       "      <th>BibNumber</th>\n",
       "      <th>ItemBarcode</th>\n",
       "      <th>ItemType</th>\n",
       "      <th>Collection</th>\n",
       "      <th>CallNumber</th>\n",
       "      <th>CheckoutDateTime</th>\n",
       "      <th>Code</th>\n",
       "      <th>Description</th>\n",
       "      <th>Code Type</th>\n",
       "      <th>Format Group</th>\n",
       "      <th>Format Subgroup</th>\n",
       "      <th>Category Group</th>\n",
       "      <th>Category Subgroup</th>\n",
       "      <th>checkout_month</th>\n",
       "      <th>checkout_date</th>\n",
       "    </tr>\n",
       "  </thead>\n",
       "  <tbody>\n",
       "    <tr>\n",
       "      <th>1228600</th>\n",
       "      <td>2269521</td>\n",
       "      <td>10047636682</td>\n",
       "      <td>acbk</td>\n",
       "      <td>canf</td>\n",
       "      <td>306.7 P2494L 2004</td>\n",
       "      <td>2016-01-28 19:18:00</td>\n",
       "      <td>canf</td>\n",
       "      <td>CA-Nonfiction</td>\n",
       "      <td>ItemCollection</td>\n",
       "      <td>Print</td>\n",
       "      <td>Book</td>\n",
       "      <td>Nonfiction</td>\n",
       "      <td>NaN</td>\n",
       "      <td>1</td>\n",
       "      <td>2016-01-28</td>\n",
       "    </tr>\n",
       "    <tr>\n",
       "      <th>2614601</th>\n",
       "      <td>3047275</td>\n",
       "      <td>10085637410</td>\n",
       "      <td>acbk</td>\n",
       "      <td>nanf</td>\n",
       "      <td>598.944 M1454M 2014</td>\n",
       "      <td>2016-05-12 17:14:00</td>\n",
       "      <td>nanf</td>\n",
       "      <td>NA-Nonfiction</td>\n",
       "      <td>ItemCollection</td>\n",
       "      <td>Print</td>\n",
       "      <td>Book</td>\n",
       "      <td>Nonfiction</td>\n",
       "      <td>NaN</td>\n",
       "      <td>5</td>\n",
       "      <td>2016-05-12</td>\n",
       "    </tr>\n",
       "    <tr>\n",
       "      <th>5553416</th>\n",
       "      <td>3099663</td>\n",
       "      <td>10085430923</td>\n",
       "      <td>jcbk</td>\n",
       "      <td>nccomic</td>\n",
       "      <td>J741.5973 Si582U 2015</td>\n",
       "      <td>2016-04-28 16:22:00</td>\n",
       "      <td>nccomic</td>\n",
       "      <td>NC-Children's Comics</td>\n",
       "      <td>ItemCollection</td>\n",
       "      <td>Print</td>\n",
       "      <td>Book</td>\n",
       "      <td>Fiction</td>\n",
       "      <td>NaN</td>\n",
       "      <td>4</td>\n",
       "      <td>2016-04-28</td>\n",
       "    </tr>\n",
       "    <tr>\n",
       "      <th>1518284</th>\n",
       "      <td>1888344</td>\n",
       "      <td>10035969467</td>\n",
       "      <td>acbk</td>\n",
       "      <td>canf</td>\n",
       "      <td>306.74097 DELANY 1999</td>\n",
       "      <td>2016-08-03 11:44:00</td>\n",
       "      <td>canf</td>\n",
       "      <td>CA-Nonfiction</td>\n",
       "      <td>ItemCollection</td>\n",
       "      <td>Print</td>\n",
       "      <td>Book</td>\n",
       "      <td>Nonfiction</td>\n",
       "      <td>NaN</td>\n",
       "      <td>8</td>\n",
       "      <td>2016-08-03</td>\n",
       "    </tr>\n",
       "    <tr>\n",
       "      <th>5718326</th>\n",
       "      <td>2447546</td>\n",
       "      <td>10057230459</td>\n",
       "      <td>jcbk</td>\n",
       "      <td>ccfic</td>\n",
       "      <td>J LAWRENC</td>\n",
       "      <td>2016-05-26 14:28:00</td>\n",
       "      <td>ccfic</td>\n",
       "      <td>CC-Children's Fiction</td>\n",
       "      <td>ItemCollection</td>\n",
       "      <td>Print</td>\n",
       "      <td>Book</td>\n",
       "      <td>Fiction</td>\n",
       "      <td>NaN</td>\n",
       "      <td>5</td>\n",
       "      <td>2016-05-26</td>\n",
       "    </tr>\n",
       "  </tbody>\n",
       "</table>\n",
       "</div>"
      ],
      "text/plain": [
       "         BibNumber  ItemBarcode ItemType Collection             CallNumber  \\\n",
       "1228600    2269521  10047636682     acbk       canf      306.7 P2494L 2004   \n",
       "2614601    3047275  10085637410     acbk       nanf    598.944 M1454M 2014   \n",
       "5553416    3099663  10085430923     jcbk    nccomic  J741.5973 Si582U 2015   \n",
       "1518284    1888344  10035969467     acbk       canf  306.74097 DELANY 1999   \n",
       "5718326    2447546  10057230459     jcbk      ccfic              J LAWRENC   \n",
       "\n",
       "           CheckoutDateTime     Code            Description       Code Type  \\\n",
       "1228600 2016-01-28 19:18:00     canf          CA-Nonfiction  ItemCollection   \n",
       "2614601 2016-05-12 17:14:00     nanf          NA-Nonfiction  ItemCollection   \n",
       "5553416 2016-04-28 16:22:00  nccomic   NC-Children's Comics  ItemCollection   \n",
       "1518284 2016-08-03 11:44:00     canf          CA-Nonfiction  ItemCollection   \n",
       "5718326 2016-05-26 14:28:00    ccfic  CC-Children's Fiction  ItemCollection   \n",
       "\n",
       "        Format Group Format Subgroup Category Group Category Subgroup  \\\n",
       "1228600        Print            Book     Nonfiction               NaN   \n",
       "2614601        Print            Book     Nonfiction               NaN   \n",
       "5553416        Print            Book        Fiction               NaN   \n",
       "1518284        Print            Book     Nonfiction               NaN   \n",
       "5718326        Print            Book        Fiction               NaN   \n",
       "\n",
       "         checkout_month checkout_date  \n",
       "1228600               1    2016-01-28  \n",
       "2614601               5    2016-05-12  \n",
       "5553416               4    2016-04-28  \n",
       "1518284               8    2016-08-03  \n",
       "5718326               5    2016-05-26  "
      ]
     },
     "execution_count": 10,
     "metadata": {},
     "output_type": "execute_result"
    }
   ],
   "source": [
    "books.head()"
   ]
  },
  {
   "cell_type": "code",
   "execution_count": 11,
   "metadata": {},
   "outputs": [],
   "source": [
    "books['checkout_week'] = books.CheckoutDateTime.dt.week"
   ]
  },
  {
   "cell_type": "code",
   "execution_count": 12,
   "metadata": {
    "scrolled": true
   },
   "outputs": [],
   "source": [
    "book_df = books[['BibNumber', 'Category Group', 'checkout_date', 'checkout_month']]"
   ]
  },
  {
   "cell_type": "code",
   "execution_count": 13,
   "metadata": {},
   "outputs": [],
   "source": [
    "book_df = book_df[book_df['Category Group'].notna()]"
   ]
  },
  {
   "cell_type": "code",
   "execution_count": 14,
   "metadata": {},
   "outputs": [
    {
     "data": {
      "text/plain": [
       "Category Group\n",
       "Fiction       51303\n",
       "Language       1571\n",
       "Nonfiction    33153\n",
       "Reference        80\n",
       "Name: BibNumber, dtype: int64"
      ]
     },
     "execution_count": 14,
     "metadata": {},
     "output_type": "execute_result"
    }
   ],
   "source": [
    "book_df.groupby(['Category Group'])['BibNumber'].count()"
   ]
  },
  {
   "cell_type": "code",
   "execution_count": 135,
   "metadata": {},
   "outputs": [],
   "source": [
    "book_df.to_csv('../mini_data/window_func.csv')"
   ]
  },
  {
   "cell_type": "code",
   "execution_count": 15,
   "metadata": {},
   "outputs": [],
   "source": [
    "fiction = book_df[book_df['Category Group'] == 'Fiction'].groupby(['checkout_date'])['BibNumber'].count()\n",
    "nonfiction = book_df[book_df['Category Group'] == 'Nonfiction'].groupby(['checkout_date'])['BibNumber'].count()\n",
    "language = book_df[book_df['Category Group'] == 'Language'].groupby(['checkout_date'])['BibNumber'].count()"
   ]
  },
  {
   "cell_type": "code",
   "execution_count": 16,
   "metadata": {},
   "outputs": [],
   "source": [
    "df = pd.DataFrame({'fiction':fiction, 'nonfiction':nonfiction, 'language':language})"
   ]
  },
  {
   "cell_type": "code",
   "execution_count": 17,
   "metadata": {},
   "outputs": [],
   "source": [
    "df2 = pd.DataFrame({'daily': fiction, 'roll_3' : fiction.rolling(3).mean(), 'expand': fiction.expanding().mean()})"
   ]
  },
  {
   "cell_type": "code",
   "execution_count": 18,
   "metadata": {},
   "outputs": [],
   "source": [
    "roll_3 = fiction.rolling(3).mean()\n",
    "roll_7 = fiction.rolling(7).mean()\n",
    "expand = fiction.expanding().mean()"
   ]
  },
  {
   "cell_type": "code",
   "execution_count": 132,
   "metadata": {},
   "outputs": [
    {
     "data": {
      "image/png": "[encoded data removed]",
      "text/plain": [
       "<Figure size 1296x864 with 4 Axes>"
      ]
     },
     "metadata": {
      "needs_background": "light"
     },
     "output_type": "display_data"
    }
   ],
   "source": [
    "fig, axs = plt.subplots(4,1, figsize=(18,12))\n",
    "\n",
    "m = np.ones(90)\n",
    "m = m * fiction[:90].mean()\n",
    "mean_line = pd.Series(m, index=fiction[:90].index)\n",
    "\n",
    "lines = [roll_3[:90], roll_7[:90], expand[:90], mean_line]\n",
    "\n",
    "for idx, ax in enumerate(axs.flatten()):\n",
    "    ax.bar(fiction[:90].index, fiction[:90].values, color='#D5D8DC')\n",
    "    ax.plot(lines[idx])"
   ]
  },
  {
   "cell_type": "code",
   "execution_count": null,
   "metadata": {},
   "outputs": [],
   "source": []
  },
  {
   "cell_type": "code",
   "execution_count": null,
   "metadata": {},
   "outputs": [],
   "source": []
  }
 ],
 "metadata": {
  "kernelspec": {
   "display_name": "Python 3",
   "language": "python",
   "name": "python3"
  },
  "language_info": {
   "codemirror_mode": {
    "name": "ipython",
    "version": 3
   },
   "file_extension": ".py",
   "mimetype": "text/x-python",
   "name": "python",
   "nbconvert_exporter": "python",
   "pygments_lexer": "ipython3",
   "version": "3.7.1"
  }
 },
 "nbformat": 4,
 "nbformat_minor": 2
}
